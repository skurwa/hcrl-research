{
 "cells": [
  {
   "cell_type": "code",
   "execution_count": 40,
   "metadata": {
    "collapsed": true
   },
   "outputs": [],
   "source": [
    "%matplotlib inline\n",
    "import matplotlib.pyplot as plt\n",
    "import numpy as np\n",
    "import pandas as pd\n",
    "from numpy.linalg import inv"
   ]
  },
  {
   "cell_type": "code",
   "execution_count": 31,
   "metadata": {
    "collapsed": true,
    "scrolled": false
   },
   "outputs": [],
   "source": [
    "df = pd.read_csv('hopper_jump_27_kp.csv')"
   ]
  },
  {
   "cell_type": "code",
   "execution_count": 91,
   "metadata": {
    "collapsed": true
   },
   "outputs": [],
   "source": [
    "t = np.zeros((df.shape[0], 1))\n",
    "for i in range(1, df.shape[0]):\n",
    "    t[i] = t[i - 1]  + df.loc[i, \"h_dt\"]\n",
    "df[\"t\" ] = t"
   ]
  },
  {
   "cell_type": "code",
   "execution_count": 41,
   "metadata": {
    "scrolled": true
   },
   "outputs": [
    {
     "data": {
      "text/html": [
       "<div>\n",
       "<style>\n",
       "    .dataframe thead tr:only-child th {\n",
       "        text-align: right;\n",
       "    }\n",
       "\n",
       "    .dataframe thead th {\n",
       "        text-align: left;\n",
       "    }\n",
       "\n",
       "    .dataframe tbody tr th {\n",
       "        vertical-align: top;\n",
       "    }\n",
       "</style>\n",
       "<table border=\"1\" class=\"dataframe\">\n",
       "  <thead>\n",
       "    <tr style=\"text-align: right;\">\n",
       "      <th></th>\n",
       "      <th>k</th>\n",
       "      <th>q1</th>\n",
       "      <th>q2</th>\n",
       "      <th>qdot1</th>\n",
       "      <th>qdot2</th>\n",
       "      <th>torque</th>\n",
       "      <th>Fr</th>\n",
       "      <th>h_dt</th>\n",
       "      <th>t</th>\n",
       "    </tr>\n",
       "  </thead>\n",
       "  <tbody>\n",
       "    <tr>\n",
       "      <th>0</th>\n",
       "      <td>0</td>\n",
       "      <td>0.500000</td>\n",
       "      <td>-0.500000</td>\n",
       "      <td>0.000000</td>\n",
       "      <td>0.000000</td>\n",
       "      <td>0.000000</td>\n",
       "      <td>0.000000</td>\n",
       "      <td>0.00</td>\n",
       "      <td>0.00</td>\n",
       "    </tr>\n",
       "    <tr>\n",
       "      <th>1</th>\n",
       "      <td>1</td>\n",
       "      <td>0.477255</td>\n",
       "      <td>-0.477255</td>\n",
       "      <td>-0.454909</td>\n",
       "      <td>0.454909</td>\n",
       "      <td>-12.657253</td>\n",
       "      <td>22.467253</td>\n",
       "      <td>0.05</td>\n",
       "      <td>0.05</td>\n",
       "    </tr>\n",
       "    <tr>\n",
       "      <th>2</th>\n",
       "      <td>2</td>\n",
       "      <td>0.429509</td>\n",
       "      <td>-0.429509</td>\n",
       "      <td>-0.954909</td>\n",
       "      <td>0.954909</td>\n",
       "      <td>-9.050008</td>\n",
       "      <td>18.860008</td>\n",
       "      <td>0.05</td>\n",
       "      <td>0.10</td>\n",
       "    </tr>\n",
       "    <tr>\n",
       "      <th>3</th>\n",
       "      <td>3</td>\n",
       "      <td>0.354509</td>\n",
       "      <td>-0.354509</td>\n",
       "      <td>-1.500000</td>\n",
       "      <td>1.500000</td>\n",
       "      <td>-5.442747</td>\n",
       "      <td>15.252747</td>\n",
       "      <td>0.05</td>\n",
       "      <td>0.15</td>\n",
       "    </tr>\n",
       "    <tr>\n",
       "      <th>4</th>\n",
       "      <td>4</td>\n",
       "      <td>0.250000</td>\n",
       "      <td>-0.250000</td>\n",
       "      <td>-2.090182</td>\n",
       "      <td>2.090182</td>\n",
       "      <td>-1.835470</td>\n",
       "      <td>11.645470</td>\n",
       "      <td>0.05</td>\n",
       "      <td>0.20</td>\n",
       "    </tr>\n",
       "  </tbody>\n",
       "</table>\n",
       "</div>"
      ],
      "text/plain": [
       "   k        q1        q2     qdot1     qdot2     torque         Fr  h_dt     t\n",
       "0  0  0.500000 -0.500000  0.000000  0.000000   0.000000   0.000000  0.00  0.00\n",
       "1  1  0.477255 -0.477255 -0.454909  0.454909 -12.657253  22.467253  0.05  0.05\n",
       "2  2  0.429509 -0.429509 -0.954909  0.954909  -9.050008  18.860008  0.05  0.10\n",
       "3  3  0.354509 -0.354509 -1.500000  1.500000  -5.442747  15.252747  0.05  0.15\n",
       "4  4  0.250000 -0.250000 -2.090182  2.090182  -1.835470  11.645470  0.05  0.20"
      ]
     },
     "execution_count": 41,
     "metadata": {},
     "output_type": "execute_result"
    }
   ],
   "source": [
    "df.head()"
   ]
  },
  {
   "cell_type": "code",
   "execution_count": 85,
   "metadata": {},
   "outputs": [
    {
     "name": "stdout",
     "output_type": "stream",
     "text": [
      "(4,)\n"
     ]
    }
   ],
   "source": [
    "test = np.transpose(np.concatenate([df.loc[0:1, \"q1\"].values, df.loc[0:1, \"qdot1\"].values]))\n",
    "print(test.shape)"
   ]
  },
  {
   "cell_type": "code",
   "execution_count": 124,
   "metadata": {
    "scrolled": true
   },
   "outputs": [],
   "source": [
    "fitParam = np.zeros([df.shape[0] - 1, 4])\n",
    "for i in range (1, df.shape[0]):\n",
    "    M = np.array([[t[i-1, 0]*t[i-1, 0]*t[i-1, 0], t[i-1, 0]*t[i-1, 0], t[i-1, 0], 1], [t[i, 0]*t[i, 0]*t[i, 0], t[i, 0]*t[i, 0], t[i, 0], 1], [3*t[i-1, 0]*t[i-1, 0], 2*t[i-1, 0], 1, 0], [3*t[i, 0]*t[i, 0], 2*t[i, 0], 1, 0]])\n",
    "    fitParam[i -1] = np.dot(inv(M),np.concatenate([df.loc[i-1:i, \"q1\"].values, df.loc[i-1:i, \"qdot1\"].values]))"
   ]
  },
  {
   "cell_type": "code",
   "execution_count": 39,
   "metadata": {
    "scrolled": true
   },
   "outputs": [
    {
     "data": {
      "text/plain": [
       "<matplotlib.legend.Legend at 0x1da9ad86470>"
      ]
     },
     "execution_count": 39,
     "metadata": {},
     "output_type": "execute_result"
    },
    {
     "data": {
      "image/png": "[encoded data removed]",
      "text/plain": [
       "<matplotlib.figure.Figure at 0x1da99bd5f28>"
      ]
     },
     "metadata": {},
     "output_type": "display_data"
    }
   ],
   "source": [
    "plt.scatter('t', 'q1', data = df)\n",
    "plt.scatter('t', 'q2', data = df)\n",
    "plt.legend()"
   ]
  },
  {
   "cell_type": "code",
   "execution_count": 38,
   "metadata": {},
   "outputs": [
    {
     "data": {
      "text/plain": [
       "<matplotlib.collections.PathCollection at 0x1da99d235c0>"
      ]
     },
     "execution_count": 38,
     "metadata": {},
     "output_type": "execute_result"
    },
    {
     "data": {
      "image/png": "[encoded data removed]",
      "text/plain": [
       "<matplotlib.figure.Figure at 0x1da99cad0b8>"
      ]
     },
     "metadata": {},
     "output_type": "display_data"
    }
   ],
   "source": [
    "plt.scatter('t', 'qdot1', data = df)\n",
    "plt.scatter('t', 'qdot2', data = df)"
   ]
  },
  {
   "cell_type": "code",
   "execution_count": null,
   "metadata": {
    "collapsed": true
   },
   "outputs": [],
   "source": []
  }
 ],
 "metadata": {
  "kernelspec": {
   "display_name": "Python 3",
   "language": "python",
   "name": "python3"
  },
  "language_info": {
   "codemirror_mode": {
    "name": "ipython",
    "version": 3
   },
   "file_extension": ".py",
   "mimetype": "text/x-python",
   "name": "python",
   "nbconvert_exporter": "python",
   "pygments_lexer": "ipython3",
   "version": "3.6.1"
  }
 },
 "nbformat": 4,
 "nbformat_minor": 2
}
